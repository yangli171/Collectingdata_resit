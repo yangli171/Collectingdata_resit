{
 "cells": [
  {
   "cell_type": "code",
   "execution_count": 49,
   "id": "c97d4c0d",
   "metadata": {},
   "outputs": [],
   "source": [
    "#import the necessary libraries\n",
    "import lyricsgenius\n",
    "import requests\n",
    "from bs4 import BeautifulSoup\n",
    "from pathlib import Path\n",
    "from collections import Counter\n",
    "import re\n",
    "import pandas as pd\n",
    "import nltk\n",
    "import time"
   ]
  },
  {
   "cell_type": "code",
   "execution_count": 50,
   "id": "c0a6ac4c",
   "metadata": {},
   "outputs": [],
   "source": [
    "# write the function to get the song documents from azlyrics #\n",
    "def song_document(url):\n",
    "    song = requests.get(url)\n",
    "    time.sleep(10)\n",
    "    document = song.text\n",
    "    song_document = BeautifulSoup(document,\"html.parser\")\n",
    "    return song_document"
   ]
  },
  {
   "cell_type": "code",
   "execution_count": 52,
   "id": "eb1cb818",
   "metadata": {},
   "outputs": [],
   "source": [
    "# write the function to get the title list #\n",
    "def get_title(song_document):\n",
    "    get_all_title = song_document.find(\"h1\")\n",
    "    all_title_list = [item.text for item in get_all_title]\n",
    "    vivian_title = []\n",
    "    for title in all_title_list:\n",
    "        title = title.replace('\\n','')\n",
    "        title = title.replace('\\t','')\n",
    "        vivian_title.append(title)\n",
    "    return vivian_title"
   ]
  },
  {
   "cell_type": "code",
   "execution_count": 53,
   "id": "519fd8a3",
   "metadata": {},
   "outputs": [],
   "source": [
    "# write the function to get the artist list #\n",
    "def get_artist(song_document):\n",
    "    get_all_artist = song_document.find(\"h2\")\n",
    "    all_artists = [item.text for item in get_all_artist]\n",
    "    vivian_artist = []\n",
    "    for item in all_artists:\n",
    "        item = item.replace('\\n','')\n",
    "        item = item.replace('\\t','')\n",
    "        item = item.replace('/','_')\n",
    "        vivian_artist.append(item)   \n",
    "    return vivian_artist"
   ]
  },
  {
   "cell_type": "code",
   "execution_count": 79,
   "id": "f8379220",
   "metadata": {},
   "outputs": [],
   "source": [
    "# write the function to get the lyrics list #\n",
    "def get_lyrics(song_document):\n",
    "    get_all_lyrics = song_document.find(\"div\", attrs={\"class\": \"col-xs-12 col-lg-8 text-center\"})\n",
    "    all_lyrics = [item.text for item in get_all_lyrics]\n",
    "    vivian_lyrics = []\n",
    "    for item in all_lyrics:\n",
    "        item = item.replace('\\n','')\n",
    "        item = item.replace('\\t','')\n",
    "        item = item.replace('/','_')\n",
    "        item = item.replace('\\\\','')\n",
    "        vivian_lyrics.append(item)   \n",
    "    return vivian_lyrics[14]"
   ]
  },
  {
   "cell_type": "code",
   "execution_count": 84,
   "id": "81efe299",
   "metadata": {},
   "outputs": [],
   "source": [
    "# get the title list #\n",
    "vivian_whatislove_title = get_title(song_document(\"https://www.azlyrics.com/lyrics/viviangreen/whatislove.html\"))\n",
    "vivian_begoodtoyou_title = get_title(song_document(\"https://www.azlyrics.com/lyrics/viviangreen/begoodtoyou.html\"))\n",
    "vivian_keepongoing_title = get_title(song_document(\"https://www.azlyrics.com/lyrics/viviangreen/keepongoing.html\"))\n",
    "\n",
    "# get the artist list #\n",
    "vivian_whatislove_artist = get_artist(song_document(\"https://www.azlyrics.com/lyrics/viviangreen/whatislove.html\"))\n",
    "vivian_begoodtoyou_artist = get_artist(song_document(\"https://www.azlyrics.com/lyrics/viviangreen/begoodtoyou.html\"))\n",
    "vivian_keepongoing_artist = get_artist(song_document(\"https://www.azlyrics.com/lyrics/viviangreen/keepongoing.html\"))\n",
    "\n",
    "# get the lyrics list #\n",
    "vivian_whatislove_lyrics = get_lyrics(song_document(\"https://www.azlyrics.com/lyrics/viviangreen/whatislove.html\"))\n",
    "vivian_begoodtoyou_lyrics = get_lyrics(song_document(\"https://www.azlyrics.com/lyrics/viviangreen/begoodtoyou.html\"))\n",
    "vivian_keepongoing_lyrics = get_lyrics(song_document(\"https://www.azlyrics.com/lyrics/viviangreen/keepongoing.html\"))\n"
   ]
  },
  {
   "cell_type": "code",
   "execution_count": 87,
   "id": "cbd0c7f6",
   "metadata": {},
   "outputs": [
    {
     "data": {
      "text/plain": [
       "\"[Verse 1:]Maybe I am foolishly in love withSomeone that isNot exactly on the same page, that I am onWell all my friends keep telling me stopWalking round so blindlyBut when he calls they're not aroundTo ever remind me[Hook:]Maybe this isn't love, but if it isn't love then really what is loveMaybe I don't need to know what's really loveCause when he's around he's got me feeling some kind of way[Verse 2:]I guess I kind of notice he don't always act so kindlyBut that doesn't stop my hunger, hunger for his heartWhy should I listen to thoes, who think that I should move onMaybe what they see as drama, I see more as art[Hook][Bridge:]Cant seem to get past how he makes me feelMay not be love but it feels so realCan't go with what they say must follow my heartBut now is that even being to to meMaybe I'm happy, truly contentMaybe this is as good as it getsDo I have faith in my confidenceOr an I just thinking all hopelessly[Hook]\""
      ]
     },
     "execution_count": 87,
     "metadata": {},
     "output_type": "execute_result"
    }
   ],
   "source": [
    "vivian_whatislove_lyrics"
   ]
  },
  {
   "cell_type": "code",
   "execution_count": 88,
   "id": "af6206c9",
   "metadata": {},
   "outputs": [
    {
     "data": {
      "text/plain": [
       "\"[Verse 1:]\\rI'll never hurt you - Oh!\\rAnd you will never shed a tear for me\\rI know you're tired of \\rBeing in and out of love with nothing to show,\\rAnd nowhere to go, but\\rBack to the same one only with a different face\\rBut now you are in a different place\\rAnd if my words don't comfort you\\rTime will surely prove,\\rThat I'll do just what I say[Hook:]\\rI'll only be good to you\\r(only be good to you)\\rBe like I should to you\\r(Be like I should to you)\\rBe everything (everything) to you bring you nothing but the good stuff\\rI'll give you good love\\rI'll only be good to you\\r(I'll only be good to you)\\rBe like I should to you\\r(Be like I should...Be like I should)\\rBe everything to you, said I'll be good to you, only be good to you\\r(Good to you - Oh)[Verse 2:]\\rYou say it's too good to be - too good\\rAnd I agree that the way it seems\\rExcept for my instinct telling me it's something else\\rIt's not a rebound or playground\\rBut something that's real\\rI've got so much to give you\\rSo don't you dare hesitate to receive it\\rIf my words don't comfort you\\rTime will surely prove,\\rThat I'll do what I say and more[Hook][Bridge:]\\rI'll always be there when you fall\\rNever doubt my heart at all\\rIt's you that I've chosen, you are my focus\\rAnd this ain't no phony disguise\\rYou can see if you look down deep\\rThey'll be nothing but good love\\rGood love coming from me - Oh[Hook]\""
      ]
     },
     "execution_count": 88,
     "metadata": {},
     "output_type": "execute_result"
    }
   ],
   "source": [
    "vivian_begoodtoyou_lyrics"
   ]
  },
  {
   "cell_type": "code",
   "execution_count": 89,
   "id": "98109ac6",
   "metadata": {},
   "outputs": [
    {
     "data": {
      "text/plain": [
       "\"\\rThe days are overhelming\\rI swear I just can't tell if I'm\\rComing or going, I wish I was all knowing\\rCause I wanna fly, but what if I\\rFall right on my face\\rBut I can't stop here, I gotta face my fear\\rOr everyday before this was in vein[Hook]\\rSo I got to keep on going on\\rAnd I can't stop for notghing\\rSo I got to keep going on and on and on\\rMy anxiety is killing me\\rSleepless nights I must defeat\\rCause nothing's really wrong\\rGuess it just took so long\\rFor me to get to the place, I wanted to be\\rNow that I'm here, I gotta face my fear\\rOr everyday before this was in vein[Hook]\\rSo I got to keep on going on\\rAnd I can't stop for notghing\\rSo I got to keep going on and on and on[Bridge]\\rI've gotta hold my head up high\\rCan't settle for just a little bit of sky\\rCan't be afraid to spread my wings and fly\\rI've gotta turn my dreams into life[Hook]\\rSo I got to keep on going on\\rAnd I can't stop for notghing\\rSo I got to keep going on and on and on\""
      ]
     },
     "execution_count": 89,
     "metadata": {},
     "output_type": "execute_result"
    }
   ],
   "source": [
    "vivian_keepongoing_lyrics"
   ]
  },
  {
   "cell_type": "code",
   "execution_count": 90,
   "id": "0bbc46f1",
   "metadata": {},
   "outputs": [],
   "source": [
    "# write the function to plot to the title list, the artist list, and the lyrics list to a dataframe #\n",
    "def plot_dataframe(title_list, artist_list, lyrics_list):\n",
    "    song_data = {'title': title_list, 'artist': artist_list, 'lyrics': lyrics_list}\n",
    "    return pd.DataFrame(song_data)"
   ]
  },
  {
   "cell_type": "code",
   "execution_count": 94,
   "id": "c1e529d9",
   "metadata": {},
   "outputs": [
    {
     "data": {
      "text/html": [
       "<div>\n",
       "<style scoped>\n",
       "    .dataframe tbody tr th:only-of-type {\n",
       "        vertical-align: middle;\n",
       "    }\n",
       "\n",
       "    .dataframe tbody tr th {\n",
       "        vertical-align: top;\n",
       "    }\n",
       "\n",
       "    .dataframe thead th {\n",
       "        text-align: right;\n",
       "    }\n",
       "</style>\n",
       "<table border=\"1\" class=\"dataframe\">\n",
       "  <thead>\n",
       "    <tr style=\"text-align: right;\">\n",
       "      <th></th>\n",
       "      <th>title</th>\n",
       "      <th>artist</th>\n",
       "      <th>lyrics</th>\n",
       "    </tr>\n",
       "  </thead>\n",
       "  <tbody>\n",
       "    <tr>\n",
       "      <th>0</th>\n",
       "      <td>\"What Is Love?\" lyrics</td>\n",
       "      <td>Vivian Green Lyrics</td>\n",
       "      <td>[Verse 1:]Maybe I am foolishly in love withSom...</td>\n",
       "    </tr>\n",
       "    <tr>\n",
       "      <th>1</th>\n",
       "      <td>\"Be Good To You\" lyrics</td>\n",
       "      <td>Vivian Green Lyrics</td>\n",
       "      <td>[Verse 1:]\\rI'll never hurt you - Oh!\\rAnd you...</td>\n",
       "    </tr>\n",
       "    <tr>\n",
       "      <th>2</th>\n",
       "      <td>\"Keep On Going\" lyrics</td>\n",
       "      <td>Vivian Green Lyrics</td>\n",
       "      <td>\\rThe days are overhelming\\rI swear I just can...</td>\n",
       "    </tr>\n",
       "  </tbody>\n",
       "</table>\n",
       "</div>"
      ],
      "text/plain": [
       "                     title               artist  \\\n",
       "0   \"What Is Love?\" lyrics  Vivian Green Lyrics   \n",
       "1  \"Be Good To You\" lyrics  Vivian Green Lyrics   \n",
       "2   \"Keep On Going\" lyrics  Vivian Green Lyrics   \n",
       "\n",
       "                                              lyrics  \n",
       "0  [Verse 1:]Maybe I am foolishly in love withSom...  \n",
       "1  [Verse 1:]\\rI'll never hurt you - Oh!\\rAnd you...  \n",
       "2  \\rThe days are overhelming\\rI swear I just can...  "
      ]
     },
     "execution_count": 94,
     "metadata": {},
     "output_type": "execute_result"
    }
   ],
   "source": [
    "# plot the dataframe of vivian_song #\n",
    "title_list = vivian_whatislove_title + vivian_begoodtoyou_title + vivian_keepongoing_title\n",
    "artist_list = vivian_whatislove_artist + vivian_begoodtoyou_artist + vivian_keepongoing_artist\n",
    "lyrics_list = [vivian_whatislove_lyrics,vivian_begoodtoyou_lyrics,vivian_keepongoing_lyrics]\n",
    "vivian_song = plot_dataframe(title_list, artist_list, lyrics_list)\n",
    "vivian_song"
   ]
  },
  {
   "cell_type": "code",
   "execution_count": 96,
   "id": "0b6f9bdb",
   "metadata": {},
   "outputs": [],
   "source": [
    "# save the dataframes csv files #\n",
    "vivian_song.to_csv('vivian_song.csv', index = False)"
   ]
  },
  {
   "cell_type": "code",
   "execution_count": null,
   "id": "ff032cab",
   "metadata": {},
   "outputs": [],
   "source": []
  }
 ],
 "metadata": {
  "kernelspec": {
   "display_name": "Python 3 (ipykernel)",
   "language": "python",
   "name": "python3"
  },
  "language_info": {
   "codemirror_mode": {
    "name": "ipython",
    "version": 3
   },
   "file_extension": ".py",
   "mimetype": "text/x-python",
   "name": "python",
   "nbconvert_exporter": "python",
   "pygments_lexer": "ipython3",
   "version": "3.9.12"
  }
 },
 "nbformat": 4,
 "nbformat_minor": 5
}
